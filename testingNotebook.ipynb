{
  "nbformat": 4,
  "nbformat_minor": 0,
  "metadata": {
    "colab": {
      "name": "testingNotebook.ipynb",
      "provenance": [],
      "toc_visible": true
    },
    "kernelspec": {
      "name": "python3",
      "display_name": "Python 3"
    }
  },
  "cells": [
    {
      "cell_type": "code",
      "metadata": {
        "id": "m_uJIcgF6MyC",
        "colab_type": "code",
        "colab": {}
      },
      "source": [
        ""
      ],
      "execution_count": 0,
      "outputs": []
    },
    {
      "cell_type": "markdown",
      "metadata": {
        "id": "Lqkyr-_w7Mdk",
        "colab_type": "text"
      },
      "source": [
        "###**Precipitation**"
      ]
    },
    {
      "cell_type": "markdown",
      "metadata": {
        "id": "QW7OFM8x7ks1",
        "colab_type": "text"
      },
      "source": [
        "####Description"
      ]
    },
    {
      "cell_type": "markdown",
      "metadata": {
        "id": "CDCtDM89X20T",
        "colab_type": "text"
      },
      "source": [
        "The following project ilistrates the change in precipitation over time in the local State College area. For the purposes of this lab, the data collected dates back to 2017. The following graph, as you see below, demonstrates the change in precipation over a three-month period from January to March of 2017. "
      ]
    },
    {
      "cell_type": "markdown",
      "metadata": {
        "id": "OBVd5EMz78QI",
        "colab_type": "text"
      },
      "source": [
        "####Graph"
      ]
    },
    {
      "cell_type": "markdown",
      "metadata": {
        "id": "3SLeii-SWxm5",
        "colab_type": "text"
      },
      "source": [
        "![alt text](https://raw.githubusercontent.com/BeatSlayer7623/SRA268-Spring2020/master/images/IMG_5528.jpg?token=AOJZ4NACDQJWU5ANQIJACUK6FX776)"
      ]
    },
    {
      "cell_type": "markdown",
      "metadata": {
        "id": "CfehE3lq8EF8",
        "colab_type": "text"
      },
      "source": [
        "####Conclusion"
      ]
    },
    {
      "cell_type": "markdown",
      "metadata": {
        "id": "yAwie80zX5-j",
        "colab_type": "text"
      },
      "source": [
        "The data recorded spanned from January of 2017 to March of 2017. Overall, the average precipitation over the course of the three months was 2.12 inches. Based on the data recorded, we can conclude that as the months went by, there was an increase in precipitation between February and March. "
      ]
    }
  ]
}
